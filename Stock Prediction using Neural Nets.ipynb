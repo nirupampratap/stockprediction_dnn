{
 "cells": [
  {
   "cell_type": "markdown",
   "metadata": {},
   "source": [
    "### Stock Prediction - Using Neural Networks - TensorFlow\n",
    "\n",
    "Tutorial based on the following [source](https://medium.com/mlreview/a-simple-deep-learning-model-for-stock-price-prediction-using-tensorflow-30505541d877)"
   ]
  },
  {
   "cell_type": "markdown",
   "metadata": {},
   "source": [
    "#### 1. Initial - The usual"
   ]
  },
  {
   "cell_type": "code",
   "execution_count": 1,
   "metadata": {},
   "outputs": [],
   "source": [
    "import numpy as np\n",
    "import pandas as pd\n",
    "import matplotlib.pyplot as pyplot"
   ]
  },
  {
   "cell_type": "markdown",
   "metadata": {},
   "source": [
    "Load data"
   ]
  },
  {
   "cell_type": "code",
   "execution_count": 2,
   "metadata": {},
   "outputs": [],
   "source": [
    "# Prepare data\n",
    "data = pd.read_csv(\"../data/data_stocks.csv\")\n",
    "\n",
    "# Drop the date variable\n",
    "data = data.drop(['DATE'],1)\n",
    "\n",
    "# Get the dimensions\n",
    "n = data.shape[0]\n",
    "p = data.shape[1]"
   ]
  },
  {
   "cell_type": "markdown",
   "metadata": {},
   "source": [
    "File was apparently cleaned and hence there is no need to adjust for any missing values etc.\n",
    "Just visualize the SP500 data "
   ]
  },
  {
   "cell_type": "code",
   "execution_count": 3,
   "metadata": {},
   "outputs": [
    {
     "data": {
      "text/plain": [
       "[<matplotlib.lines.Line2D at 0x7fc47e3265f8>]"
      ]
     },
     "execution_count": 3,
     "metadata": {},
     "output_type": "execute_result"
    },
    {
     "data": {
      "image/png": "[encoded data removed]",
      "text/plain": [
       "<Figure size 432x288 with 1 Axes>"
      ]
     },
     "metadata": {
      "needs_background": "light"
     },
     "output_type": "display_data"
    }
   ],
   "source": [
    "# Check the timeseries plot of the data\n",
    "pyplot.plot(data['SP500'])"
   ]
  },
  {
   "cell_type": "code",
   "execution_count": 4,
   "metadata": {},
   "outputs": [],
   "source": [
    "# Change the data to numpy array\n",
    "data = data.values"
   ]
  },
  {
   "cell_type": "markdown",
   "metadata": {},
   "source": [
    "#### 2. Divide the data into training and testing datasets"
   ]
  },
  {
   "cell_type": "code",
   "execution_count": 5,
   "metadata": {},
   "outputs": [],
   "source": [
    "# Training and test data\n",
    "train_start = 0\n",
    "train_end = int(np.floor(0.8*n))\n",
    "\n",
    "test_start = train_end\n",
    "test_end = n\n",
    "\n",
    "data_train = data[np.arange(train_start, train_end), :]\n",
    "data_test = data[np.arange(test_start, test_end), :]"
   ]
  },
  {
   "cell_type": "markdown",
   "metadata": {},
   "source": [
    "#### 3. Scaling data\n",
    "This is because most of the activation functions of the network's neurons are tanh/sigmoid functions which are defined on [-1,1] or [0,1] intervals "
   ]
  },
  {
   "attachments": {},
   "cell_type": "markdown",
   "metadata": {},
   "source": [
    "#### 3.1. Some preliminary details of deep neural networks\n",
    "AnalyticsVidhya has decent article on the same and it is shared [here](https://www.analyticsvidhya.com/blog/2017/10/fundamentals-deep-learning-activation-functions-when-to-use-them/). Most of the content below is from that article.\n",
    "\n",
    "0. What does a deep neural net look like?\n",
    "   <img src=\"https://s3-ap-south-1.amazonaws.com/av-blog-media/wp-content/uploads/2017/10/13170054/nn.png\" alt=\"Activation function\" height=\"100\" width=\"500\"/>\n",
    "\n",
    "1. Design of a single neuron in the neural network\n",
    "   <img src=\"https://dzone.com/storage/temp/5939898-artificialneuron.jpg\" alt=\"Activation function\" height=\"100\" width=\"400\"/>\n",
    "\n",
    "2. Each neuron has the following:\n",
    "   1. Weight\n",
    "   2. Bias\n",
    "   3. Activation Function\n",
    "   \n",
    "   Neurons do a linear transformation on the input by the weights and biases. The non linear transformation is done by the activation function. i.e. without the activation function, the weights and bias would just do a linear transformation of input.  A neural network without an activation function would just be a linear regression model. Activation function is what allows the neural network to learn.\n",
    "\n",
    "\n",
    "3. Forward propagation and backward propagation (of information)\n",
    "\n",
    "   Forward movement of information (from input to output) known as the forward propagation. But what if the output generated is far away from the expected value? In a neural network, we would update the weights and biases of the neurons on the basis of the error. This process is known as back-propagation. Once the entire data has gone through this process, the final weights and biases are used for predictions.\n",
    "   \n",
    "\n",
    "4. Activation function\n",
    "   <img src=\"https://s3-ap-south-1.amazonaws.com/av-blog-media/wp-content/uploads/2017/10/17123344/act.png\" alt=\"Activation function\" height=\"100\" width=\"400\"/>\n",
    "   The activation function is the non linear transformation that we do over the input signal. This transformed output is then sen to the next layer of neurons as input. Activation functions make the back-propagation possible since the gradients are supplied along with the error to update the weights and biases\n",
    "   \n",
    "   \n",
    "5. Popular types of [activation functions](https://www.analyticsvidhya.com/blog/2017/10/fundamentals-deep-learning-activation-functions-when-to-use-them/)\n",
    "   \n",
    "   1. <b> Binary step-function  </b>\n",
    "   \n",
    "   This is a threshold based classifier i.e. it decides whether or not the neuron should be activated. If the value Y is above a given threshold value then activate the neuron else leave it deactivated. Useful for binary classification problems. The article above has an error where it calls the gradient of this step-function as zero. It is incorrect as the derivative of the step function is an impulse (dirac delta function). But I think the point the article makes is that the gradient is not so useful when back-propagated.\n",
    "   \n",
    "   2. <b>Linear function</b>\n",
    "   \n",
    "   Function can be simply be described as f(x)=ax. Here the activation is proportional to input i.e. input x, will be transformed to ax. This can be applied to various neurons and multiple neurons can be activated at the same time. Now, when we have multiple classes, we can choose the one which has the maximum value. But the derivate of this function is constant (a) and hence this gradient does not aid in back-propagation of information. Ultimately how-many ever linear transformations we make, the result is a linear transform and hence is useful when we need to interpret the results (just like linear regression).\n",
    "   \n",
    "   3. <b>Sigmoid</b>\n",
    "   \n",
    "   f(x)=1/(1+e^-x. It is a smooth function and is continuously differentiable. Output is going to be non-linear. As per the article, the goodness of using a sigmoid is that, the derivative is a normal curve with high values between -3 and +3. This means that in this range small changes in x would also bring about large changes in the value of Y. So the function essentially tries to push the Y values towards the extremes. This is a very desirable quality when we’re trying to classify the values to a particular class. Gradient is dependent on x and hence is useful during back propagation. Problems associated with it is that the values only range from 0 to 1. This means that the sigmoid function is not symmetric around the origin and the values received are all positive. So not all times would we desire the values going to the next neuron to be all of the same sign. This can be addressed by scaling the sigmoid function. That’s exactly what happens in the tanh function.\n",
    "      \n",
    "   4. <b>Tanh</b>\n",
    "   \n",
    "   The tanh function is very similar to the sigmoid function. It is actually just a scaled version of the sigmoid function. tanh(x)=2sigmoid(2x)-1. Tanh works similar to the sigmoid function but is symmetric over the origin. it ranges from -1 to 1. All other properties are the same as that of the sigmoid function. It is continuous and differentiable at all points. The function as you can see is non linear so we can easily backpropagate the errors. The gradient of the tanh function is steeper as compared to the sigmoid function. Our choice of using sigmoid or tanh would basically depend on the requirement of gradient in the problem statement. But similar to the sigmoid function we still have the vanishing gradient problem (read below). The graph of the tanh function is flat and the gradients are very low.\n",
    "   \n",
    "   5. <b> ReLU </b>\n",
    "   \n",
    "   The ReLU function is the Rectified linear unit. It is the most widely used activation function. It is defined as f(x)=max(0,x). ReLU is the most widely used activation function while designing networks today. First things first, the ReLU function is non linear, which means we can easily backpropagate the errors and have multiple layers of neurons being activated by the ReLU function. The main advantage of using the ReLU function over other activation functions is that it does not activate all the neurons at the same time. i.e. if the input is negative it will convert it to zero and the neuron does not get activated. This means that at a time only a few neurons are activated making the network sparse making it efficient and easy for computation. But ReLU also has gradients moving towards zero. i.e. on the negative side of the graph, the gradient is zero, which means for activations in that region, the gradient is zero and the weights are not updated during back propagation. This can create dead neurons which never get activated.\n",
    "   \n",
    "   6. <b> Leaky ReLU </b>\n",
    "   \n",
    "   f(x)= {ax when x<0; = x when x>=0} And a is a very small number. The main advantage of replacing the horizontal line is to remove the zero gradient. So in this case the gradient of the left side of the graph is non zero and so we would no longer encounter dead neurons in that region. \n",
    "   \n",
    "   7. <b> Parameterized ReLU </b>\n",
    "   \n",
    "   Same as above. i.e. f(x)= {ax when x<0; = x when x>=0}. But 'a' is also a trainable paramter in this model. The network also learns the value of 'a' for faster and more optimum convergence. The parametrised ReLU function is used when the leaky ReLU function still fails to solve the problem of dead neurons and the relevant information is not successfully passed to the next layer.\n",
    "   \n",
    "   8. <b> Softmax </b>\n",
    "   \n",
    "   The softmax function is also a type of sigmoid function but is handy when we are trying to handle classification problems. Sigmoid can only handle two classes (i.e. binary classification). But in here, softmax gives the probability of which class the input might belong to. \n",
    "   \n",
    "   <img src=\"https://s3-ap-south-1.amazonaws.com/av-blog-media/wp-content/uploads/2017/10/17014509/softmax.png\" alt=\"softmax\" height=\"100\" width=\"250\"/>\n",
    "   \n",
    "   For example: if we have the outputs as [1.2 , 0.9 , 0.75], then after applying softmax we would get the following: [0.42 ,  0.31, 0.27]. So now we can use these as probabilities for the value to be in each class. <b>The softmax function is ideally used in the output layer of the classifier where we are actually trying to attain the probabilities to define the class of each input.</b>\n",
    "  \n",
    "  \n",
    "6. Choice of Activation Function\n",
    "\n",
    "   According to the article, the following is the logic / heuristics to know which activation function should be used in which situation. They call it rule-of-thumb.\n",
    "\n",
    "    1. Sigmoid functions and their combinations generally work better in the case of classifiers\n",
    "    2. Sigmoids and tanh functions are sometimes avoided due to the vanishing gradient problem\n",
    "    3. ReLU function is a general activation function and is used in most cases these days\n",
    "    4. If we encounter a case of dead neurons in our networks the leaky ReLU function is the best choice\n",
    "    5. Always keep in mind that ReLU function should only be used in the hidden layers\n",
    "    6. As a rule of thumb, you can begin with using ReLU function and then move over to other activation functions in case ReLU doesn’t provide with optimum results\n",
    "    \n",
    "\n",
    "7. Vanishing Gradient problem - [In Detail](https://en.wikipedia.org/wiki/Vanishing_gradient_problem)\n",
    "\n",
    "   The vanishing gradient problem is a difficulty found in training artificial neural networks with gradient-based learning methods and backpropagation. In such methods, each of the neural network's weights receives an update proportional to the partial derivative of the error function with respect to the current weight in each iteration of training. The problem is that in some cases, the gradient will be vanishingly small, effectively preventing the weight from changing its value. In the worst case, this may completely stop the neural network from further training. As one example of the problem cause, traditional activation functions such as the hyperbolic tangent function have gradients in the range (0, 1), and backpropagation computes gradients by the chain rule. This has the effect of multiplying n of these small numbers to compute gradients of the \"front\" layers in an n-layer network, meaning that the gradient (error signal) decreases exponentially with n while the front layers train very slowly. "
   ]
  },
  {
   "cell_type": "code",
   "execution_count": null,
   "metadata": {},
   "outputs": [],
   "source": [
    "# Scale data\n",
    "from sklearn.preprocessing import MinMaxScaler\n",
    "scaler = MinMaxScaler()\n",
    "data_train = scaler.fit_transform(data_train)\n",
    "data_test = scaler.transform(data_test)\n",
    "\n",
    "# Build X and y\n",
    "X_train = data_train[:, 1:]\n",
    "y_train = data_train[:, 0]\n",
    "X_test = data_test[:, 1:]\n",
    "y_test = data_test[:, 0]"
   ]
  }
 ],
 "metadata": {
  "kernelspec": {
   "display_name": "Python 3",
   "language": "python",
   "name": "python3"
  },
  "language_info": {
   "codemirror_mode": {
    "name": "ipython",
    "version": 3
   },
   "file_extension": ".py",
   "mimetype": "text/x-python",
   "name": "python",
   "nbconvert_exporter": "python",
   "pygments_lexer": "ipython3",
   "version": "3.7.1"
  }
 },
 "nbformat": 4,
 "nbformat_minor": 2
}
